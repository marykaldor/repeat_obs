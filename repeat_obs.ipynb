{
 "cells": [
  {
   "cell_type": "code",
   "id": "initial_id",
   "metadata": {
    "ExecuteTime": {
     "end_time": "2025-03-26T00:02:22.964363Z",
     "start_time": "2025-03-26T00:02:22.961219Z"
    }
   },
   "source": [
    "# MEK Import block\n",
    "import astropy\n",
    "from astropy.io import fits\n",
    "import numpy as np\n",
    "import os\n",
    "from astropy.coordinates import SkyCoord\n",
    "import astropy.units as u\n",
    "import scipy\n",
    "import math\n",
    "from sdss_semaphore.targeting import TargetingFlags"
   ],
   "outputs": [],
   "execution_count": 3
  },
  {
   "cell_type": "code",
   "id": "cbda9a4a00f2abbc",
   "metadata": {
    "ExecuteTime": {
     "end_time": "2024-06-20T15:22:38.846761Z",
     "start_time": "2024-06-20T15:22:38.767001Z"
    }
   },
   "source": [
    "# MEK grab data from fits file\n",
    "dr16file = fits.open(\"../../DR16Q_v4.fits\")\n",
    "dr16data = dr16file[1].data"
   ],
   "outputs": [],
   "execution_count": 2
  },
  {
   "cell_type": "code",
   "id": "16b7e61f0ee0b28a",
   "metadata": {
    "ExecuteTime": {
     "end_time": "2024-06-20T15:22:42.147459Z",
     "start_time": "2024-06-20T15:22:38.848814Z"
    }
   },
   "source": [
    "# MEK take only objects that have more than one observation\n",
    "idx_repeat = np.where(dr16data[\"NSPEC\"]>0)[0]\n",
    "repeat_data = dr16data[idx_repeat]"
   ],
   "outputs": [],
   "execution_count": 3
  },
  {
   "cell_type": "code",
   "id": "8621c1b67a8fa955",
   "metadata": {
    "ExecuteTime": {
     "end_time": "2024-06-20T15:22:42.211586Z",
     "start_time": "2024-06-20T15:22:42.149450Z"
    }
   },
   "source": [
    "# MEK take only objects below a z=0.8039 (SDSS spectrograph red limit with 5100 redshifted to edge, to keep H-Beta)\n",
    "idx_z = np.where(repeat_data[\"Z\"]<0.8039)[0]\n",
    "repeat_z_data = repeat_data[idx_z]"
   ],
   "outputs": [],
   "execution_count": 4
  },
  {
   "cell_type": "code",
   "id": "43e6e170f56bae21",
   "metadata": {
    "ExecuteTime": {
     "end_time": "2024-06-20T15:22:48.657551Z",
     "start_time": "2024-06-20T15:22:42.212958Z"
    }
   },
   "source": [
    "# MEK create storage for plates, MJDs, and fibers\n",
    "names = []\n",
    "plates = []\n",
    "mjds = []\n",
    "fibers = []\n",
    "\n",
    "# MEK go through each object\n",
    "for data in repeat_z_data:\n",
    "    # MEK wipe any information about the previous object\n",
    "    name = []\n",
    "    plate = []\n",
    "    mjd = []\n",
    "    fiber = []\n",
    "    \n",
    "    # MEK take primary data\n",
    "    sdssname = data[\"SDSS_NAME\"]\n",
    "    name.append(sdssname)\n",
    "    plate.append(data[\"PLATE\"])\n",
    "    mjd.append(data[\"MJD\"])\n",
    "    fiber.append(data[\"FIBERID\"])\n",
    "    \n",
    "    # MEK take duplicate data, ignoring the filler -1s that bring each entry to a length of 74\n",
    "    for num in data[\"PLATE_DUPLICATE\"]:\n",
    "        if num == -1:\n",
    "            pass\n",
    "        else:\n",
    "            name.append(sdssname)\n",
    "            plate.append(num)\n",
    "    for num in data[\"MJD_DUPLICATE\"]:\n",
    "        if num == -1:\n",
    "            pass\n",
    "        else:\n",
    "            mjd.append(num)\n",
    "    for num in data[\"FIBERID_DUPLICATE\"]:\n",
    "        if num == -1:\n",
    "            pass\n",
    "        else:\n",
    "            fiber.append(num)\n",
    "            \n",
    "    # MEK add data from one source to the growing list of all the sources        \n",
    "    names.append(name)\n",
    "    plates.append(plate)\n",
    "    mjds.append(mjd)\n",
    "    fibers.append(fiber)\n",
    "\n",
    "print((names[9]))\n",
    "print((plates[9]))\n",
    "print((mjds[9]))\n",
    "print((fibers[9]))"
   ],
   "outputs": [
    {
     "name": "stdout",
     "output_type": "stream",
     "text": [
      "['000104.52+002753.7', '000104.52+002753.7']\n",
      "[9403, 1091]\n",
      "[58018, 52902]\n",
      "[460, 521]\n"
     ]
    }
   ],
   "execution_count": 5
  },
  {
   "cell_type": "code",
   "id": "4ebea88a9874c8d3",
   "metadata": {
    "ExecuteTime": {
     "end_time": "2024-06-20T15:22:48.736555Z",
     "start_time": "2024-06-20T15:22:48.659449Z"
    }
   },
   "source": [
    "# MEK establish the link we will pull from\n",
    "sdss_archive_str = \"https://data.sdss.org/sas/dr16/sdss/spectro/redux/\"\n",
    "\n",
    "# MEK create lists to store the names of the spectra (nofits for making folders, fits for wget, plates for wget path)\n",
    "all_files_nofits = []\n",
    "all_files_fits = []\n",
    "plates_for_path = []\n",
    "names_for_path = []\n",
    "\n",
    "# MEK for all of the plates, MJDs, and fibers that we have - put them together into the format that SDSS uses to name spectra\n",
    "for name, plate, mjd, fiber in zip(names, plates, mjds, fibers):\n",
    "    for i in range(0, len(plate)):\n",
    "        names_for_path.append(name[i])\n",
    "        filename_nofits = \"spec-\"+str(plate[i]).zfill(4)+\"-\"+str(mjd[i])+\"-\"+str(fiber[i]).zfill(4)\n",
    "        filename_fits = \"spec-\"+str(plate[i]).zfill(4)+\"-\"+str(mjd[i])+\"-\"+str(fiber[i]).zfill(4)+\".fits\"\n",
    "        all_files_nofits.append(filename_nofits)\n",
    "        all_files_fits.append(filename_fits)\n",
    "        plates_for_path.append(plate[i])\n",
    "        #os.system(\"mkdir \"+filename_nofits)\n",
    "\n",
    "print(len(all_files_nofits))\n",
    "print(len(all_files_fits))\n",
    "print(len(plates_for_path))\n",
    "print(len(names_for_path))"
   ],
   "outputs": [
    {
     "name": "stdout",
     "output_type": "stream",
     "text": [
      "25359\n",
      "25359\n",
      "25359\n",
      "25359\n"
     ]
    }
   ],
   "execution_count": 6
  },
  {
   "cell_type": "code",
   "id": "ca3deadf78e0f79c",
   "metadata": {
    "ExecuteTime": {
     "end_time": "2024-06-20T15:22:48.742883Z",
     "start_time": "2024-06-20T15:22:48.738080Z"
    }
   },
   "source": [
    "# MEK maybe not necessary - break up the fits that we'll wget into more bite sized pieces\n",
    "fits_1 = all_files_fits[0:5000]\n",
    "plates_1 = plates_for_path[0:5000]\n",
    "fits_2 = all_files_fits[5000:10000]\n",
    "plates_2 = plates_for_path[5000:10000]\n",
    "fits_3 = all_files_fits[10000:15000]\n",
    "plates_3 = plates_for_path[10000:15000]\n",
    "fits_4 = all_files_fits[15000:20000]\n",
    "plates_4 = plates_for_path[15000:20000]\n",
    "fits_5 = all_files_fits[20000:]\n",
    "plates_5 = plates_for_path[20000:]"
   ],
   "outputs": [],
   "execution_count": 7
  },
  {
   "cell_type": "code",
   "id": "dd0dbb4c545e2a6c",
   "metadata": {
    "ExecuteTime": {
     "end_time": "2024-06-20T15:22:48.752610Z",
     "start_time": "2024-06-20T15:22:48.744781Z"
    }
   },
   "source": [
    "'''\n",
    "# MEK go into each directory\n",
    "os.chdir(all_files_nofits[2])\n",
    "\n",
    "# MEK try all available paths where the data might live\n",
    "pathnames = [\"26/spectra/lite/\", \"103/spectra/lite/\", \"104/spectra/lite/\", \"v5_13_0/spectra/lite/\"]\n",
    "\n",
    "# MEK wget for all paths (wget will keep going if it doesn't find the file you've requested)\n",
    "for path in pathnames:\n",
    "    os.system(\"wget \"+sdss_archive_str+path+str(plates_for_path[2]).zfill(4)+\"/\"+all_files_fits[2])\n",
    "\n",
    "# MEK go back to main directory  \n",
    "os.chdir(\"..\")\n",
    "'''"
   ],
   "outputs": [
    {
     "data": {
      "text/plain": [
       "'\\n# MEK go into each directory\\nos.chdir(all_files_nofits[2])\\n\\n# MEK try all available paths where the data might live\\npathnames = [\"26/spectra/lite/\", \"103/spectra/lite/\", \"104/spectra/lite/\", \"v5_13_0/spectra/lite/\"]\\n\\n# MEK wget for all paths (wget will keep going if it doesn\\'t find the file you\\'ve requested)\\nfor path in pathnames:\\n    os.system(\"wget \"+sdss_archive_str+path+str(plates_for_path[2]).zfill(4)+\"/\"+all_files_fits[2])\\n\\n# MEK go back to main directory  \\nos.chdir(\"..\")\\n'"
      ]
     },
     "execution_count": 8,
     "metadata": {},
     "output_type": "execute_result"
    }
   ],
   "execution_count": 8
  },
  {
   "cell_type": "code",
   "id": "310145401cbc4811",
   "metadata": {
    "ExecuteTime": {
     "end_time": "2024-06-20T15:22:49.717813Z",
     "start_time": "2024-06-20T15:22:48.753976Z"
    }
   },
   "source": [
    "# MEK take only objects below a z=0.8039 (SDSS spectrograph red limit with 5100 redshifted to edge, to keep H-Beta)\n",
    "idx_dr16z = np.where(dr16data[\"Z\"]<0.8039)[0]\n",
    "dr16z_data = dr16data[idx_dr16z]\n",
    "\n",
    "# MEK create SkyCoords of all DR16Q\n",
    "dr16_ra = dr16z_data[\"RA\"]\n",
    "dr16_dec = dr16z_data[\"DEC\"]\n",
    "dr16_pos = SkyCoord(dr16_ra, dr16_dec, unit=(u.deg, u.deg))"
   ],
   "outputs": [],
   "execution_count": 9
  },
  {
   "cell_type": "code",
   "id": "4db2296b17f807f8",
   "metadata": {
    "ExecuteTime": {
     "end_time": "2024-06-20T15:22:49.790201Z",
     "start_time": "2024-06-20T15:22:49.722482Z"
    }
   },
   "source": [
    "# MEK pull DR18 data\n",
    "dr18file = fits.open(\"../../spAll-v6_0_4.fits\")\n",
    "dr18data = dr18file[1].data"
   ],
   "outputs": [],
   "execution_count": 10
  },
  {
   "cell_type": "code",
   "id": "c16aef1eb93da3da",
   "metadata": {
    "ExecuteTime": {
     "end_time": "2024-06-20T15:22:49.930993Z",
     "start_time": "2024-06-20T15:22:49.791708Z"
    }
   },
   "source": [
    "# MEK take only objects below a z=0.8039 (SDSS spectrograph red limit with 5100 redshifted to edge, to keep H-Beta)\n",
    "idx_dr18z = np.where(dr18data[\"Z\"]<0.8039)[0]\n",
    "dr18z_data = dr18data[idx_dr18z]\n",
    "\n",
    "# MEK create SkyCoords of all DR18\n",
    "dr18_ra = dr18z_data[\"PLUG_RA\"]\n",
    "dr18_dec = dr18z_data[\"PLUG_DEC\"]\n",
    "dr18_pos = SkyCoord(dr18_ra, dr18_dec, unit=(u.deg, u.deg))"
   ],
   "outputs": [],
   "execution_count": 11
  },
  {
   "cell_type": "code",
   "id": "3e199b835c997b77",
   "metadata": {
    "ExecuteTime": {
     "end_time": "2024-06-20T15:22:50.198151Z",
     "start_time": "2024-06-20T15:22:49.932421Z"
    }
   },
   "source": [
    "# MEK compare where DR16 and DR18 sources are within 5 arcseconds of each other - these are repeat observations between the two\n",
    "sep = 5/60/60\n",
    "id1, id2, d2, d3 = dr18_pos.search_around_sky(dr16_pos, sep*u.deg)"
   ],
   "outputs": [],
   "execution_count": 12
  },
  {
   "cell_type": "code",
   "id": "9d267c44970f79df",
   "metadata": {
    "ExecuteTime": {
     "end_time": "2024-06-20T15:22:50.203097Z",
     "start_time": "2024-06-20T15:22:50.199398Z"
    }
   },
   "source": [
    "# MEK grab only the positions that are in both catalogues\n",
    "overlap16 = dr16_pos[id1]\n",
    "overlap18 = dr18_pos[id2]\n",
    "print(np.shape(id1))\n",
    "print(np.shape(id2))"
   ],
   "outputs": [
    {
     "name": "stdout",
     "output_type": "stream",
     "text": [
      "(414,)\n",
      "(414,)\n"
     ]
    }
   ],
   "execution_count": 13
  },
  {
   "cell_type": "code",
   "id": "dd3815b7ac63a3a0",
   "metadata": {
    "ExecuteTime": {
     "end_time": "2024-06-20T15:22:50.245604Z",
     "start_time": "2024-06-20T15:22:50.204335Z"
    }
   },
   "source": [
    "# MEK grab the DR16 names of each object\n",
    "dr16names = list(repeat_z_data[\"SDSS_NAME\"])\n",
    "overlapnames = dr16z_data[id1][\"SDSS_NAME\"]"
   ],
   "outputs": [],
   "execution_count": 14
  },
  {
   "cell_type": "code",
   "id": "57983d46c1725624",
   "metadata": {
    "ExecuteTime": {
     "end_time": "2024-06-20T15:22:50.288445Z",
     "start_time": "2024-06-20T15:22:50.247172Z"
    }
   },
   "source": [
    "# MEK combine lists (ignore duplicate names!)\n",
    "for name in overlapnames:\n",
    "    if name in dr16names:\n",
    "        pass\n",
    "    else:\n",
    "        dr16names.append(name)"
   ],
   "outputs": [],
   "execution_count": 15
  },
  {
   "cell_type": "code",
   "id": "8f56ae59689087f9",
   "metadata": {
    "ExecuteTime": {
     "end_time": "2024-06-20T15:22:50.326267Z",
     "start_time": "2024-06-20T15:22:50.290051Z"
    }
   },
   "source": [
    "# MEK look for repeats in DR18\n",
    "idx_dr18z_repeat = np.where(dr18z_data[\"NSPECOBS\"]>1)[0]\n",
    "dr18z_repeat_data = dr18z_data[idx_dr18z_repeat]"
   ],
   "outputs": [],
   "execution_count": 16
  },
  {
   "cell_type": "code",
   "id": "6d042dcf922c8e01",
   "metadata": {
    "ExecuteTime": {
     "end_time": "2024-06-20T15:22:50.423471Z",
     "start_time": "2024-06-20T15:22:50.328075Z"
    }
   },
   "source": [
    "ras = dr18z_repeat_data[\"PLUG_RA\"]\n",
    "decs = dr18z_repeat_data[\"PLUG_DEC\"]\n",
    "coords = SkyCoord(ras, decs, unit=(u.deg, u.deg))\n",
    "hms = coords.ra.hms\n",
    "dms = coords.dec.dms\n",
    "\n",
    "# SDSS JHHMMSS.ss+DDMMSS.s\n",
    "\n",
    "hmslist = []\n",
    "\n",
    "for h, m, s in zip(hms[0], hms[1], hms[2]):\n",
    "    h = str(round(h)).zfill(2)\n",
    "    m = str(round(m)).zfill(2)\n",
    "    s = f\"{s:.2f}\"\n",
    "    s = s.zfill(5)\n",
    "    hms_str = h+m+s\n",
    "    hmslist.append(hms_str)\n",
    "    \n",
    "dmslist = []\n",
    "for d, m, s in zip(dms[0], dms[1], dms[2]):\n",
    "    if d<0:\n",
    "        d = str(round(d)).zfill(3)\n",
    "        m = str(-1*(round(m))).zfill(2)\n",
    "        s = str(-1*(round(s, 1))).zfill(4)\n",
    "    else:\n",
    "        if d<1 and m<0 and s<0:\n",
    "            if -2<m<2:\n",
    "                d = \"-\"+str(round(d)).zfill(2)\n",
    "                m = str(-1*(round(m))).zfill(2)\n",
    "                s = str(-1*(round(s, 1))).zfill(4)\n",
    "                #print(\"first\", d, m ,s)\n",
    "            else:\n",
    "                d = \"-\"+str(round(d)).zfill(2)\n",
    "                m = str(-1*(round(m))).zfill(2)\n",
    "                s = str(-1*(round(s, 1))).zfill(4)\n",
    "        else:\n",
    "            d = \"+\"+str(round(d)).zfill(2)\n",
    "            m = str(round(m)).zfill(2)\n",
    "            s = str(round(s, 1)).zfill(4)\n",
    "    dms_str = d+m+s\n",
    "    dmslist.append(dms_str)\n",
    "\n",
    "j2000list = []\n",
    "for ra, dec in zip(hmslist, dmslist):\n",
    "    j2000 = ra+dec\n",
    "    j2000list.append(j2000)\n",
    "    #print(j2000)\n",
    "\n",
    "i = 0\n",
    "troublesomeindices = []\n",
    "while i < len(j2000list):\n",
    "    if j2000list[i][10:15] == \"0000-\":\n",
    "        troublesomeindices.append(i)\n",
    "    i += 1\n",
    "    \n",
    "troublesomeindices = np.array(troublesomeindices)\n",
    "bad = np.array(j2000list)[troublesomeindices]"
   ],
   "outputs": [],
   "execution_count": 17
  },
  {
   "cell_type": "code",
   "id": "b10c43f93f0be0aa",
   "metadata": {
    "ExecuteTime": {
     "end_time": "2025-03-26T00:02:41.328891Z",
     "start_time": "2025-03-26T00:02:41.255402Z"
    }
   },
   "source": [
    "ipl3file = fits.open(\"../../spAll-lite-v6_1_3.fits\")\n",
    "ipl3data = ipl3file[1].data\n",
    "ipl3_hdr = ipl3file[1].header"
   ],
   "outputs": [],
   "execution_count": 4
  },
  {
   "cell_type": "code",
   "id": "99eae3d840475716",
   "metadata": {
    "ExecuteTime": {
     "end_time": "2025-03-26T00:03:07.512574Z",
     "start_time": "2025-03-26T00:03:02.440489Z"
    }
   },
   "source": [
    "idx_ipl3z = np.where(ipl3data[\"Z\"]<0.8039)[0]\n",
    "ipl3z_data = ipl3data[idx_ipl3z]\n",
    "ipl3_ra = ipl3z_data[\"RACAT\"]\n",
    "ipl3_dec = ipl3z_data[\"DECCAT\"]\n",
    "ipl3_pos = SkyCoord(ipl3_ra, ipl3_dec, unit=(u.deg, u.deg))\n",
    "\n",
    "ipl3epoch = ipl3z_data[\"COORD_EPOCH\"]\n",
    "print(ipl3epoch)"
   ],
   "outputs": [
    {
     "name": "stdout",
     "output_type": "stream",
     "text": [
      "[2000. 2000. 2000. ...   nan   nan   nan]\n"
     ]
    }
   ],
   "execution_count": 6
  },
  {
   "cell_type": "code",
   "id": "1b623eb2987728f0",
   "metadata": {
    "ExecuteTime": {
     "end_time": "2024-06-20T15:23:00.416842Z",
     "start_time": "2024-06-20T15:22:59.982778Z"
    }
   },
   "source": [
    "# MEK compare where DR16 and DR18 sources are within 5 arcseconds of each other - these are repeat observations between the two\n",
    "sep = 5/60/60\n",
    "id1, id2, d2, d3 = ipl3_pos.search_around_sky(dr16_pos, sep*u.deg)\n",
    "# MEK grab only the positions that are in both catalogues\n",
    "overlap16 = dr16_pos[id1]\n",
    "overlapipl = ipl3_pos[id2]\n",
    "print(np.shape(id1))\n",
    "print(np.shape(id2))"
   ],
   "outputs": [
    {
     "name": "stdout",
     "output_type": "stream",
     "text": [
      "(34340,)\n",
      "(34340,)\n"
     ]
    }
   ],
   "execution_count": 20
  },
  {
   "cell_type": "code",
   "id": "94e711eca75ef24a",
   "metadata": {
    "ExecuteTime": {
     "end_time": "2025-03-26T00:03:10.774303Z",
     "start_time": "2025-03-26T00:03:10.722577Z"
    }
   },
   "source": [
    "flags = TargetingFlags(ipl3z_data[\"SDSS5_TARGET_FLAGS\"])"
   ],
   "outputs": [],
   "execution_count": 7
  },
  {
   "cell_type": "code",
   "id": "16220fec1127948e",
   "metadata": {
    "ExecuteTime": {
     "end_time": "2024-06-20T15:23:00.449562Z",
     "start_time": "2024-06-20T15:23:00.446734Z"
    }
   },
   "source": [
    "'''for label, count in flags.count(skip_empty=True).items():\n",
    "    print(f\"Label: {label}, Count: {count}\")'''"
   ],
   "outputs": [
    {
     "data": {
      "text/plain": [
       "'for label, count in flags.count(skip_empty=True).items():\\n    print(f\"Label: {label}, Count: {count}\")'"
      ]
     },
     "execution_count": 22,
     "metadata": {},
     "output_type": "execute_result"
    }
   ],
   "execution_count": 22
  },
  {
   "cell_type": "code",
   "id": "d00b0a503b4349b",
   "metadata": {
    "ExecuteTime": {
     "end_time": "2024-06-20T15:23:00.457006Z",
     "start_time": "2024-06-20T15:23:00.450320Z"
    }
   },
   "source": [
    "'''for mapper, count in flags.count_by_attribute(\"mapper\").items():\n",
    "    print(f\"{mapper}: {count:,}\")'''"
   ],
   "outputs": [
    {
     "data": {
      "text/plain": [
       "'for mapper, count in flags.count_by_attribute(\"mapper\").items():\\n    print(f\"{mapper}: {count:,}\")'"
      ]
     },
     "execution_count": 23,
     "metadata": {},
     "output_type": "execute_result"
    }
   ],
   "execution_count": 23
  },
  {
   "cell_type": "code",
   "id": "f57608862d39d0c5",
   "metadata": {
    "ExecuteTime": {
     "end_time": "2024-06-20T15:23:00.462742Z",
     "start_time": "2024-06-20T15:23:00.458425Z"
    }
   },
   "source": [
    "'''for program, count in flags.count_by_attribute(\"program\").items():\n",
    "    print(f\"{program}: {count:,}\")'''"
   ],
   "outputs": [
    {
     "data": {
      "text/plain": [
       "'for program, count in flags.count_by_attribute(\"program\").items():\\n    print(f\"{program}: {count:,}\")'"
      ]
     },
     "execution_count": 24,
     "metadata": {},
     "output_type": "execute_result"
    }
   ],
   "execution_count": 24
  },
  {
   "cell_type": "code",
   "id": "f8729828a0982fda",
   "metadata": {
    "ExecuteTime": {
     "end_time": "2025-03-26T00:08:49.168121Z",
     "start_time": "2025-03-26T00:08:48.849794Z"
    }
   },
   "source": [
    "rm_idx = flags.in_program(\"bhm_rm\")\n",
    "rm = ipl3z_data[rm_idx]\n",
    "\n",
    "aqmes_idx = flags.in_program(\"bhm_aqmes\")\n",
    "aqmes = ipl3z_data[aqmes_idx]"
   ],
   "outputs": [],
   "execution_count": 27
  },
  {
   "cell_type": "code",
   "id": "b5a720ef1508d309",
   "metadata": {
    "ExecuteTime": {
     "end_time": "2024-06-20T15:23:00.892387Z",
     "start_time": "2024-06-20T15:23:00.888688Z"
    }
   },
   "source": [
    "rm_ra = rm[\"RACAT\"]\n",
    "rm_dec = rm[\"DECCAT\"]\n",
    "\n",
    "aqmes_ra = aqmes[\"RACAT\"]\n",
    "aqmes_dec = aqmes[\"DECCAT\"]\n",
    "\n",
    "ipl3_q_ra = np.concatenate((rm_ra, aqmes_ra), axis=0)\n",
    "ipl3_q_dec = np.concatenate((rm_dec, aqmes_dec), axis=0)"
   ],
   "outputs": [],
   "execution_count": 26
  },
  {
   "cell_type": "code",
   "id": "9d97128cdb4cb5dc",
   "metadata": {
    "ExecuteTime": {
     "end_time": "2024-06-20T15:23:00.898053Z",
     "start_time": "2024-06-20T15:23:00.893413Z"
    }
   },
   "source": [
    "ipl3_q_pos = SkyCoord(ipl3_q_ra, ipl3_q_dec, unit=(u.deg, u.deg))"
   ],
   "outputs": [],
   "execution_count": 27
  },
  {
   "cell_type": "code",
   "id": "47964d766ead6e12",
   "metadata": {
    "ExecuteTime": {
     "end_time": "2024-06-20T15:23:01.020440Z",
     "start_time": "2024-06-20T15:23:00.902652Z"
    }
   },
   "source": [
    "# MEK compare where DR16 and DR18 sources are within 5 arcseconds of each other - these are repeat observations between the two\n",
    "sep = 5/60/60\n",
    "id1, id2, d2, d3 = ipl3_q_pos.search_around_sky(dr16_pos, sep*u.deg)\n",
    "# MEK grab only the positions that are in both catalogues\n",
    "overlap16 = dr16_pos[id1]\n",
    "overlapiplq = ipl3_q_pos[id2]\n",
    "print(np.shape(id1))\n",
    "print(np.shape(id2))\n",
    "\n",
    "missing_dr16q = len(ipl3_q_pos)-len(id2)\n",
    "print(missing_dr16q)\n",
    "print(np.shape(ipl3_q_pos))\n",
    "\n",
    "print(\"overlap\", overlapiplq[0:10])\n",
    "print(id1[0:10])\n",
    "print(id2[0:10])\n",
    "\n",
    "rm_aqmes = np.concatenate((rm, aqmes), axis=0)\n",
    "print(rm_aqmes[id2][0:10][\"MJD\"])"
   ],
   "outputs": [
    {
     "name": "stdout",
     "output_type": "stream",
     "text": [
      "(16113,)\n",
      "(16113,)\n",
      "21023\n",
      "(37136,)\n",
      "overlap <SkyCoord (ICRS): (ra, dec) in deg\n",
      "    [(0.04984221,  0.0403696 ), (0.04984221,  0.0403696 ),\n",
      "     (0.04984224,  0.04036958), (0.04984224,  0.04036958),\n",
      "     (0.04984224,  0.04036958), (0.06847029, -0.3092766 ),\n",
      "     (0.06847029, -0.3092766 ), (0.06847035, -0.30927659),\n",
      "     (0.06847035, -0.30927659), (0.06847035, -0.30927659)]>\n",
      "[12 12 12 12 12 14 14 14 14 14]\n",
      "[27925 27970 34365 35047 35069 27914 27959 34351 35034 35056]\n",
      "[59189 59190 59844 59897 59898 59189 59190 59844 59897 59898]\n"
     ]
    }
   ],
   "execution_count": 28
  },
  {
   "cell_type": "code",
   "id": "f5eb51a607a791df",
   "metadata": {
    "ExecuteTime": {
     "end_time": "2024-06-20T15:23:01.326241Z",
     "start_time": "2024-06-20T15:23:01.021611Z"
    }
   },
   "source": [
    "no_match = []\n",
    "for i in range(0, len(ipl3_q_pos)):\n",
    "    if i not in id2:\n",
    "        no_match.append(i)\n",
    "        \n",
    "no_matches = ipl3_q_pos[no_match]\n",
    "print(len(no_matches))"
   ],
   "outputs": [
    {
     "name": "stdout",
     "output_type": "stream",
     "text": [
      "21026\n"
     ]
    }
   ],
   "execution_count": 29
  },
  {
   "cell_type": "code",
   "id": "4fe928be649bfda7",
   "metadata": {
    "ExecuteTime": {
     "end_time": "2024-06-20T15:23:01.333112Z",
     "start_time": "2024-06-20T15:23:01.328235Z"
    }
   },
   "source": [
    "'''\n",
    "names16 = repeat_z_data[\"SDSS_NAME\"]\n",
    "print(np.shape(names16))\n",
    "\n",
    "namesipl = dr16z_data[id1][\"SDSS_NAME\"]\n",
    "print(np.shape(namesipl))\n",
    "\n",
    "all_names = np.concatenate((names16, namesipl), axis=0)\n",
    "print(np.shape(all_names))\n",
    "\n",
    "all_names = np.unique(all_names)\n",
    "print(np.shape(all_names))\n",
    "print(all_names)\n",
    "\n",
    "os.system(\"pwd\")\n",
    "\n",
    "print(np.shape(names_for_path))\n",
    "print(np.shape(plates_for_path))\n",
    "print(np.shape(all_files_fits))\n",
    "\n",
    "for name, plate, file in zip(names_for_path, plates_for_path, all_files_fits):\n",
    "    #os.system(\"mkdir \"+name)\n",
    "    # MEK go into each directory\n",
    "    os.chdir(name)\n",
    "    os.system(\"pwd\")\n",
    "    \n",
    "    # MEK try all available paths where the data might live\n",
    "    pathnames = [\"26/spectra/lite/\", \"103/spectra/lite/\", \"104/spectra/lite/\", \"v5_13_0/spectra/lite/\"]\n",
    "    \n",
    "    # MEK wget for all paths (wget will keep going if it doesn't find the file you've requested)\n",
    "    for path in pathnames:\n",
    "        command=\"wget \"+sdss_archive_str+path+str(plate).zfill(4)+\"/\"+file\n",
    "        #print(command)\n",
    "        #os.system(command)\n",
    "    \n",
    "    # MEK go back to main directory  \n",
    "    os.chdir(\"..\")\n",
    "'''"
   ],
   "outputs": [
    {
     "data": {
      "text/plain": [
       "'\\nnames16 = repeat_z_data[\"SDSS_NAME\"]\\nprint(np.shape(names16))\\n\\nnamesipl = dr16z_data[id1][\"SDSS_NAME\"]\\nprint(np.shape(namesipl))\\n\\nall_names = np.concatenate((names16, namesipl), axis=0)\\nprint(np.shape(all_names))\\n\\nall_names = np.unique(all_names)\\nprint(np.shape(all_names))\\nprint(all_names)\\n\\nos.system(\"pwd\")\\n\\nprint(np.shape(names_for_path))\\nprint(np.shape(plates_for_path))\\nprint(np.shape(all_files_fits))\\n\\nfor name, plate, file in zip(names_for_path, plates_for_path, all_files_fits):\\n    #os.system(\"mkdir \"+name)\\n    # MEK go into each directory\\n    os.chdir(name)\\n    os.system(\"pwd\")\\n    \\n    # MEK try all available paths where the data might live\\n    pathnames = [\"26/spectra/lite/\", \"103/spectra/lite/\", \"104/spectra/lite/\", \"v5_13_0/spectra/lite/\"]\\n    \\n    # MEK wget for all paths (wget will keep going if it doesn\\'t find the file you\\'ve requested)\\n    for path in pathnames:\\n        command=\"wget \"+sdss_archive_str+path+str(plate).zfill(4)+\"/\"+file\\n        #print(command)\\n        #os.system(command)\\n    \\n    # MEK go back to main directory  \\n    os.chdir(\"..\")\\n'"
      ]
     },
     "execution_count": 30,
     "metadata": {},
     "output_type": "execute_result"
    }
   ],
   "execution_count": 30
  },
  {
   "cell_type": "code",
   "id": "bc17fc8c8944474b",
   "metadata": {
    "ExecuteTime": {
     "end_time": "2024-06-20T15:23:01.505005Z",
     "start_time": "2024-06-20T15:23:01.334634Z"
    }
   },
   "source": [
    "sdss_matches = dr16z_data[id1]\n",
    "rm_aqmes_matches = rm_aqmes[id2]\n",
    "ipl3_overlap_sdss_names = sdss_matches[\"SDSS_NAME\"]\n",
    "print(len(ipl3_overlap_sdss_names))\n",
    "os.system(\"pwd\")\n",
    "\n",
    "first50names = ipl3_overlap_sdss_names[0:50]\n",
    "print(first50names)\n",
    "\n",
    "'''\n",
    "for name in ipl3_overlap_sdss_names:\n",
    "    os.system(\"mkdir \"+name)\n",
    "'''"
   ],
   "outputs": [
    {
     "name": "stdout",
     "output_type": "stream",
     "text": [
      "16113\n",
      "/home/kaldorme/research/code/repeat_obs\n",
      "['000011.96+000225.2' '000011.96+000225.2' '000011.96+000225.2'\n",
      " '000011.96+000225.2' '000011.96+000225.2' '000016.43-001833.4'\n",
      " '000016.43-001833.4' '000016.43-001833.4' '000016.43-001833.4'\n",
      " '000016.43-001833.4' '000109.12-004121.8' '000109.12-004121.8'\n",
      " '000109.12-004121.8' '000109.12-004121.8' '000109.12-004121.8'\n",
      " '000109.12-004121.8' '000111.19-002011.5' '000111.19-002011.5'\n",
      " '000111.19-002011.5' '000111.19-002011.5' '000111.19-002011.5'\n",
      " '000111.19-002011.5' '000114.75+264127.5' '000114.75+264127.5'\n",
      " '000114.75+264127.5' '000114.75+264127.5' '000116.48+263257.9'\n",
      " '000116.48+263257.9' '000116.48+263257.9' '000116.48+263257.9'\n",
      " '000134.71-003103.6' '000134.71-003103.6' '000134.71-003103.6'\n",
      " '000134.71-003103.6' '000134.71-003103.6' '000134.71-003103.6'\n",
      " '000140.70+260425.5' '000140.70+260425.5' '000140.70+260425.5'\n",
      " '000140.70+260425.5' '000208.83-001742.7' '000208.83-001742.7'\n",
      " '000208.83-001742.7' '000208.83-001742.7' '000208.83-001742.7'\n",
      " '000208.83-001742.7' '000214.49+254130.2' '000214.49+254130.2'\n",
      " '000214.49+254130.2' '000214.49+254130.2']\n"
     ]
    },
    {
     "data": {
      "text/plain": [
       "'\\nfor name in ipl3_overlap_sdss_names:\\n    os.system(\"mkdir \"+name)\\n'"
      ]
     },
     "execution_count": 31,
     "metadata": {},
     "output_type": "execute_result"
    }
   ],
   "execution_count": 31
  },
  {
   "metadata": {
    "ExecuteTime": {
     "end_time": "2024-06-20T15:23:01.534214Z",
     "start_time": "2024-06-20T15:23:01.506985Z"
    }
   },
   "cell_type": "code",
   "source": [
    "specfile = rm_aqmes_matches[\"SPEC_FILE\"]\n",
    "specfile = [file.decode(\"UTF-8\") for file in specfile]\n",
    "\n",
    "dir1 = [name[5:11] for name in specfile]\n",
    "print(dir1[0:5])\n",
    "\n",
    "dir2 = [name[12:17] for name in specfile]\n",
    "print(dir2[0:5])\n",
    "\n",
    "print(specfile[0:5])\n",
    "\n",
    "print(np.shape(dir1))\n",
    "print(np.shape(dir2))\n",
    "print(np.shape(specfile))\n",
    "print(np.shape(ipl3_overlap_sdss_names))"
   ],
   "id": "15d44a7341ed8e20",
   "outputs": [
    {
     "name": "stdout",
     "output_type": "stream",
     "text": [
      "['015035', '015035', '104634', '104634', '104634']\n",
      "['59189', '59190', '59844', '59897', '59898']\n",
      "['spec-015035-59189-4399101101.fits', 'spec-015035-59190-4399101101.fits', 'spec-104634-59844-27021597957478658.fits', 'spec-104634-59897-27021597957478658.fits', 'spec-104634-59898-27021597957478658.fits']\n",
      "(16113,)\n",
      "(16113,)\n",
      "(16113,)\n",
      "(16113,)\n"
     ]
    }
   ],
   "execution_count": 32
  },
  {
   "metadata": {
    "ExecuteTime": {
     "end_time": "2024-06-20T15:23:01.541895Z",
     "start_time": "2024-06-20T15:23:01.536176Z"
    }
   },
   "cell_type": "code",
   "source": [
    "ipl3_path = \"https://data.sdss5.org/sas/ipl-3/spectro/boss/redux/v6_1_3/spectra/lite/\"\n",
    "usr = \"sdss5\"\n",
    "pss = \"panoPtic-5\"\n",
    "\n",
    "'''\n",
    "for name, dir1_str, dir2_str, specfile_str in zip(ipl3_overlap_sdss_names, dir1, dir2, specfile):\n",
    "    # MEK go into each directory\n",
    "    os.chdir(name)\n",
    "    os.system(\"pwd\")\n",
    "    \n",
    "    # MEK wget for all paths (wget will keep going if it doesn't find the file you've requested)\n",
    "    command=\"wget --user \"+usr+\" --password \"+pss+\" \"+ipl3_path+dir1_str+\"/\"+dir2_str+\"/\"+specfile_str\n",
    "    print(command)\n",
    "    os.system(command)\n",
    "    \n",
    "    # MEK go back to main directory  \n",
    "    os.chdir(\"..\")\n",
    "'''"
   ],
   "id": "76a2bfaa05661bc6",
   "outputs": [
    {
     "data": {
      "text/plain": [
       "'\\nfor name, dir1_str, dir2_str, specfile_str in zip(ipl3_overlap_sdss_names, dir1, dir2, specfile):\\n    # MEK go into each directory\\n    os.chdir(name)\\n    os.system(\"pwd\")\\n    \\n    # MEK wget for all paths (wget will keep going if it doesn\\'t find the file you\\'ve requested)\\n    command=\"wget --user \"+usr+\" --password \"+pss+\" \"+ipl3_path+dir1_str+\"/\"+dir2_str+\"/\"+specfile_str\\n    print(command)\\n    os.system(command)\\n    \\n    # MEK go back to main directory  \\n    os.chdir(\"..\")\\n'"
      ]
     },
     "execution_count": 33,
     "metadata": {},
     "output_type": "execute_result"
    }
   ],
   "execution_count": 33
  },
  {
   "metadata": {
    "ExecuteTime": {
     "end_time": "2024-06-20T15:23:01.549038Z",
     "start_time": "2024-06-20T15:23:01.544305Z"
    }
   },
   "cell_type": "code",
   "source": [
    "'''\n",
    "spec-015002-59230-6358921707\n",
    "59229\n",
    "59228\n",
    "'''"
   ],
   "id": "6078d0545e6fd8d5",
   "outputs": [
    {
     "data": {
      "text/plain": [
       "'\\nspec-015002-59230-6358921707\\n59229\\n59228\\n'"
      ]
     },
     "execution_count": 34,
     "metadata": {},
     "output_type": "execute_result"
    }
   ],
   "execution_count": 34
  },
  {
   "metadata": {
    "ExecuteTime": {
     "end_time": "2024-06-20T15:38:39.108656Z",
     "start_time": "2024-06-20T15:38:39.103075Z"
    }
   },
   "cell_type": "code",
   "source": [
    "# previous run stopped at index 12718 (completed the run at index 12718, but index 12719 did not start)\n",
    "print(np.where(specfile == 'spec-015171-59264-4350967940.fits'))\n",
    "idx = np.where(ipl3_overlap_sdss_names == '141625.70+535438.5')[0]\n",
    "print(idx)\n",
    "print(ipl3_overlap_sdss_names[12718])\n",
    "print(specfile[12718])\n",
    "print(dir1[12718])\n",
    "print(dir2[12718])"
   ],
   "id": "f8c7baebf8d6abab",
   "outputs": [
    {
     "name": "stdout",
     "output_type": "stream",
     "text": [
      "(array([], dtype=int64),)\n",
      "[12702 12703 12704 12705 12706 12707 12708 12709 12710 12711 12712 12713\n",
      " 12714 12715 12716 12717 12718 12719 12720 12721 12722 12723 12724 12725\n",
      " 12726 12727 12728 12729 12730 12731 12732 12733 12734 12735 12736 12737\n",
      " 12738 12739 12740 12741 12742 12743 12744 12745 12746 12747 12748 12749\n",
      " 12750 12751 12752 12753 12754 12755 12756 12757 12758 12759 12760 12761\n",
      " 12762 12763]\n",
      "141625.70+535438.5\n",
      "spec-015171-59264-4350967940.fits\n",
      "015171\n",
      "59264\n"
     ]
    },
    {
     "name": "stderr",
     "output_type": "stream",
     "text": [
      "/tmp/ipykernel_4272/545518558.py:2: DeprecationWarning: Calling nonzero on 0d arrays is deprecated, as it behaves surprisingly. Use `atleast_1d(cond).nonzero()` if the old behavior was intended. If the context of this warning is of the form `arr[nonzero(cond)]`, just use `arr[cond]`.\n",
      "  print(np.where(specfile == 'spec-015171-59264-4350967940.fits'))\n"
     ]
    }
   ],
   "execution_count": 70
  },
  {
   "metadata": {
    "ExecuteTime": {
     "end_time": "2024-06-20T15:43:09.898550Z",
     "start_time": "2024-06-20T15:43:09.893031Z"
    }
   },
   "cell_type": "code",
   "source": [
    "ipl3_overlap_sdss_names_end = ipl3_overlap_sdss_names[12719:]\n",
    "dir1_end = dir1[12719:]\n",
    "dir2_end = dir2[12719:]\n",
    "specfile_end = specfile[12719:]\n",
    "\n",
    "print(ipl3_overlap_sdss_names_end[0])\n",
    "print(dir1_end[0])\n",
    "print(dir2_end[0])\n",
    "print(specfile_end[0])\n",
    "\n",
    "print(np.shape(ipl3_overlap_sdss_names_end))\n",
    "print(np.shape(dir1_end))\n",
    "print(np.shape(dir2_end))\n",
    "print(np.shape(specfile_end))"
   ],
   "id": "463df22206b3d701",
   "outputs": [
    {
     "name": "stdout",
     "output_type": "stream",
     "text": [
      "141625.70+535438.5\n",
      "015171\n",
      "59265\n",
      "spec-015171-59265-4350967940.fits\n",
      "(3394,)\n",
      "(3394,)\n",
      "(3394,)\n",
      "(3394,)\n"
     ]
    }
   ],
   "execution_count": 77
  },
  {
   "metadata": {
    "ExecuteTime": {
     "end_time": "2024-06-20T18:16:53.684612Z",
     "start_time": "2024-06-20T18:16:53.679775Z"
    }
   },
   "cell_type": "code",
   "source": [
    "os.system(\"pwd\")\n",
    "\n",
    "'''\n",
    "for name, dir1_str, dir2_str, specfile_str in zip(ipl3_overlap_sdss_names_end, dir1_end, dir2_end, specfile_end):\n",
    "    # MEK go into each directory\n",
    "    os.chdir(name)\n",
    "    os.system(\"pwd\")\n",
    "    \n",
    "    # MEK wget for all paths (wget will keep going if it doesn't find the file you've requested)\n",
    "    command=\"wget --user \"+usr+\" --password \"+pss+\" \"+ipl3_path+dir1_str+\"/\"+dir2_str+\"/\"+specfile_str\n",
    "    print(command)\n",
    "    os.system(command)\n",
    "    \n",
    "    # MEK go back to main directory  \n",
    "    os.chdir(\"..\")\n",
    "'''"
   ],
   "id": "93ad06875ba7d270",
   "outputs": [
    {
     "name": "stdout",
     "output_type": "stream",
     "text": [
      "/home/kaldorme/research/code/repeat_obs\n"
     ]
    },
    {
     "data": {
      "text/plain": [
       "'\\nfor name, dir1_str, dir2_str, specfile_str in zip(ipl3_overlap_sdss_names_end, dir1_end, dir2_end, specfile_end):\\n    # MEK go into each directory\\n    os.chdir(name)\\n    os.system(\"pwd\")\\n    \\n    # MEK wget for all paths (wget will keep going if it doesn\\'t find the file you\\'ve requested)\\n    command=\"wget --user \"+usr+\" --password \"+pss+\" \"+ipl3_path+dir1_str+\"/\"+dir2_str+\"/\"+specfile_str\\n    print(command)\\n    os.system(command)\\n    \\n    # MEK go back to main directory  \\n    os.chdir(\"..\")\\n'"
      ]
     },
     "execution_count": 88,
     "metadata": {},
     "output_type": "execute_result"
    }
   ],
   "execution_count": 88
  },
  {
   "metadata": {
    "ExecuteTime": {
     "end_time": "2024-06-20T18:14:13.836242Z",
     "start_time": "2024-06-20T18:14:13.817255Z"
    }
   },
   "cell_type": "code",
   "source": [
    "nobs_ipl3 = ipl3z_data[\"NSPECOBS\"]\n",
    "multiobs_ipl3 = np.where(nobs_ipl3 > 1)[0]\n",
    "print(np.shape(ipl3z_data))\n",
    "print(np.shape(multiobs_ipl3))"
   ],
   "id": "eec20f1d4a3462dd",
   "outputs": [
    {
     "name": "stdout",
     "output_type": "stream",
     "text": [
      "(1509804,)\n",
      "(232142,)\n"
     ]
    }
   ],
   "execution_count": 87
  },
  {
   "metadata": {},
   "cell_type": "code",
   "outputs": [],
   "execution_count": null,
   "source": "",
   "id": "f790c1908c513011"
  }
 ],
 "metadata": {
  "kernelspec": {
   "display_name": "Python 3 (ipykernel)",
   "language": "python",
   "name": "python3"
  },
  "language_info": {
   "codemirror_mode": {
    "name": "ipython",
    "version": 3
   },
   "file_extension": ".py",
   "mimetype": "text/x-python",
   "name": "python",
   "nbconvert_exporter": "python",
   "pygments_lexer": "ipython3",
   "version": "3.10.12"
  }
 },
 "nbformat": 4,
 "nbformat_minor": 5
}
